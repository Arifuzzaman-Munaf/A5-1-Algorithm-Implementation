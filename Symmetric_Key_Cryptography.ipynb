{
  "nbformat": 4,
  "nbformat_minor": 0,
  "metadata": {
    "colab": {
      "name": "Symmetric Key Cryptography",
      "provenance": [],
      "collapsed_sections": []
    },
    "kernelspec": {
      "name": "python3",
      "display_name": "Python 3.8.10 64-bit"
    },
    "language_info": {
      "name": "python",
      "version": "3.8.10"
    },
    "interpreter": {
      "hash": "4447cc7378cf30879333494e5d460e5c62c12902847286c87503f98d25a71d26"
    }
  },
  "cells": [
    {
      "cell_type": "markdown",
      "metadata": {
        "id": "4oK4ox0dDPag"
      },
      "source": [
        "# **A5/1 encryption Algorithm**"
      ]
    },
    {
      "cell_type": "code",
      "metadata": {
        "id": "0hxx-fJhJwue",
        "colab": {
          "base_uri": "https://localhost:8080/"
        },
        "outputId": "64920c23-feab-47e3-e369-eb28fcf29380"
      },
      "source": [
        "import numpy as np\n",
        "class style:\n",
        "   BOLD = '\\033[1m'\n",
        "   END = '\\033[0m'\n",
        "key=\"\"\n",
        "\n",
        "###############################  edit Register Bits  ##########################################\n",
        "reg_x = np.array([0, 1, 1, 0, 1, 1, 0, 1, 1, 1, 0, 0, 0, 1, 1, 0, 1, 1, 1])                ####\n",
        "reg_y = np.array([1, 0, 0, 1, 0, 0, 0, 0, 0, 0, 1, 1, 1, 0, 1, 0, 0, 1, 1, 1, 1, 0])       ####\n",
        "reg_z = np.array([0, 0, 0, 1, 0, 1, 0, 1, 1, 0, 0, 1, 0, 1, 0, 0, 1, 1, 0, 0, 0, 1, 1])    ####\n",
        "###############################################################################################\n",
        "def major(m):\n",
        "  return max(set(m), key = m.count)\n",
        "\n",
        "def shift(xs, n):\n",
        "    if n >= 0:\n",
        "        return np.r_[np.full(n, np.nan), xs[:-n]]\n",
        "    else:\n",
        "        return np.r_[xs[-n:], np.full(-n, np.nan)]\n",
        "\n",
        "def print_x(x):\n",
        "  c=0\n",
        "  print(\" \")\n",
        "  print(\"------------------Printing X register-------------------\")\n",
        "  for i in x:\n",
        "    print(\"X\"+str(c)+\"-\"+str(int(i)),end=\"\\t\")\n",
        "    c=c+1\n",
        "  print(\"\")\n",
        "\n",
        "def print_y(y):\n",
        "  c=0\n",
        "  print(\" \")\n",
        "  print(\"------------------Printing Y register-------------------\")\n",
        "  for i in y:\n",
        "    print(\"Y\"+str(c)+\"-\"+str(int(i)),end=\"\\t\")\n",
        "    c=c+1\n",
        "  print(\"\")\n",
        "\n",
        "\n",
        "def print_z(z):\n",
        "  c=0\n",
        "  print(\" \")\n",
        "  print(\"------------------Printing Z register-------------------\")\n",
        "  for i in z:\n",
        "    print(\"Z\"+str(c)+\"-\"+str(int(i)),end=\"\\t\")\n",
        "    c=c+1\n",
        "  print(\"\")\n",
        "\n",
        "#######  Change The number of bits Here using the number in \"range\" function######### \n",
        "for i in range(0,5):                                                          #######\n",
        "#####################################################################################\n",
        "\n",
        "  maj=major([reg_x[8], reg_y[10],reg_z[10]])\n",
        "  print(\"-----------------------------iteration \"+str(i)+\"-----------------------------\")\n",
        "  print(\"m = maj( x8 ,y10 , z10) = (\"+str(reg_x[8])+\" ,\"+str(reg_y[10])+\" ,\"+str(reg_z[10])+\" ) = \"+str(maj)+\"\\n\")\n",
        "  \n",
        "  if reg_x[8]==maj :\n",
        "    t=int(reg_x[13]) ^ int(reg_x[16]) ^ int(reg_x[17]) ^ int(reg_x[18])\n",
        "    reg_x=shift(reg_x , 1)\n",
        "    reg_x[0]=t\n",
        "\n",
        "  if reg_y[10]==maj:\n",
        "    t=int(reg_y[20]) ^ int(reg_y[21]) \n",
        "    reg_y=shift(reg_y , 1)\n",
        "    reg_y[0]=t\n",
        "\n",
        "  if reg_z[10]==maj:\n",
        "    t=int(reg_z[7]) ^ int(reg_z[20]) ^ int(reg_z[21]) ^ int(reg_z[22])\n",
        "    reg_z=shift(reg_z,1)\n",
        "    reg_z[0]=t\n",
        " \n",
        "  print(print_x(reg_x))\n",
        "  print(print_y(reg_y))\n",
        "  print(print_z(reg_z))\n",
        "  key=key+str(int(reg_x[18]) ^ int(reg_y[21]) ^ int(reg_z[22]))\n",
        "  print(style.BOLD+\"Key Stream Bits- X18 X-OR Y21 X-OR Z22 =\"+str(reg_x[18])+\" X-OR \"+str(reg_y[21])+\" X-OR \"+str(reg_z[22])+\" = \"+str(key) + style.END)\n",
        "  print(\"\")"
      ],
      "execution_count": 7,
      "outputs": [
        {
          "output_type": "stream",
          "name": "stdout",
          "text": [
            "-----------------------------iteration 0-----------------------------\nm = maj( x8 ,y10 , z10) = (1 ,1 ,0 ) = 1\n\n \n------------------Printing X register-------------------\nX0-0\tX1-0\tX2-1\tX3-1\tX4-0\tX5-1\tX6-1\tX7-0\tX8-1\tX9-1\tX10-1\tX11-0\tX12-0\tX13-0\tX14-1\tX15-1\tX16-0\tX17-1\tX18-1\t\nNone\n \n------------------Printing Y register-------------------\nY0-1\tY1-1\tY2-0\tY3-0\tY4-1\tY5-0\tY6-0\tY7-0\tY8-0\tY9-0\tY10-0\tY11-1\tY12-1\tY13-1\tY14-0\tY15-1\tY16-0\tY17-0\tY18-1\tY19-1\tY20-1\tY21-1\t\nNone\n \n------------------Printing Z register-------------------\nZ0-0\tZ1-0\tZ2-0\tZ3-1\tZ4-0\tZ5-1\tZ6-0\tZ7-1\tZ8-1\tZ9-0\tZ10-0\tZ11-1\tZ12-0\tZ13-1\tZ14-0\tZ15-0\tZ16-1\tZ17-1\tZ18-0\tZ19-0\tZ20-0\tZ21-1\tZ22-1\t\nNone\n\u001b[1mKey Stream Bits- X18 X-OR Y21 X-OR Z22 =1.0 X-OR 1.0 X-OR 1 = 1\u001b[0m\n\n-----------------------------iteration 1-----------------------------\nm = maj( x8 ,y10 , z10) = (1.0 ,0.0 ,0 ) = 0.0\n\n \n------------------Printing X register-------------------\nX0-0\tX1-0\tX2-1\tX3-1\tX4-0\tX5-1\tX6-1\tX7-0\tX8-1\tX9-1\tX10-1\tX11-0\tX12-0\tX13-0\tX14-1\tX15-1\tX16-0\tX17-1\tX18-1\t\nNone\n \n------------------Printing Y register-------------------\nY0-0\tY1-1\tY2-1\tY3-0\tY4-0\tY5-1\tY6-0\tY7-0\tY8-0\tY9-0\tY10-0\tY11-0\tY12-1\tY13-1\tY14-1\tY15-0\tY16-1\tY17-0\tY18-0\tY19-1\tY20-1\tY21-1\t\nNone\n \n------------------Printing Z register-------------------\nZ0-1\tZ1-0\tZ2-0\tZ3-0\tZ4-1\tZ5-0\tZ6-1\tZ7-0\tZ8-1\tZ9-1\tZ10-0\tZ11-0\tZ12-1\tZ13-0\tZ14-1\tZ15-0\tZ16-0\tZ17-1\tZ18-1\tZ19-0\tZ20-0\tZ21-0\tZ22-1\t\nNone\n\u001b[1mKey Stream Bits- X18 X-OR Y21 X-OR Z22 =1.0 X-OR 1.0 X-OR 1.0 = 11\u001b[0m\n\n-----------------------------iteration 2-----------------------------\nm = maj( x8 ,y10 , z10) = (1.0 ,0.0 ,0.0 ) = 0.0\n\n \n------------------Printing X register-------------------\nX0-0\tX1-0\tX2-1\tX3-1\tX4-0\tX5-1\tX6-1\tX7-0\tX8-1\tX9-1\tX10-1\tX11-0\tX12-0\tX13-0\tX14-1\tX15-1\tX16-0\tX17-1\tX18-1\t\nNone\n \n------------------Printing Y register-------------------\nY0-0\tY1-0\tY2-1\tY3-1\tY4-0\tY5-0\tY6-1\tY7-0\tY8-0\tY9-0\tY10-0\tY11-0\tY12-0\tY13-1\tY14-1\tY15-1\tY16-0\tY17-1\tY18-0\tY19-0\tY20-1\tY21-1\t\nNone\n \n------------------Printing Z register-------------------\nZ0-1\tZ1-1\tZ2-0\tZ3-0\tZ4-0\tZ5-1\tZ6-0\tZ7-1\tZ8-0\tZ9-1\tZ10-1\tZ11-0\tZ12-0\tZ13-1\tZ14-0\tZ15-1\tZ16-0\tZ17-0\tZ18-1\tZ19-1\tZ20-0\tZ21-0\tZ22-0\t\nNone\n\u001b[1mKey Stream Bits- X18 X-OR Y21 X-OR Z22 =1.0 X-OR 1.0 X-OR 0.0 = 110\u001b[0m\n\n-----------------------------iteration 3-----------------------------\nm = maj( x8 ,y10 , z10) = (1.0 ,0.0 ,1.0 ) = 1.0\n\n \n------------------Printing X register-------------------\nX0-0\tX1-0\tX2-0\tX3-1\tX4-1\tX5-0\tX6-1\tX7-1\tX8-0\tX9-1\tX10-1\tX11-1\tX12-0\tX13-0\tX14-0\tX15-1\tX16-1\tX17-0\tX18-1\t\nNone\n \n------------------Printing Y register-------------------\nY0-0\tY1-0\tY2-1\tY3-1\tY4-0\tY5-0\tY6-1\tY7-0\tY8-0\tY9-0\tY10-0\tY11-0\tY12-0\tY13-1\tY14-1\tY15-1\tY16-0\tY17-1\tY18-0\tY19-0\tY20-1\tY21-1\t\nNone\n \n------------------Printing Z register-------------------\nZ0-1\tZ1-1\tZ2-1\tZ3-0\tZ4-0\tZ5-0\tZ6-1\tZ7-0\tZ8-1\tZ9-0\tZ10-1\tZ11-1\tZ12-0\tZ13-0\tZ14-1\tZ15-0\tZ16-1\tZ17-0\tZ18-0\tZ19-1\tZ20-1\tZ21-0\tZ22-0\t\nNone\n\u001b[1mKey Stream Bits- X18 X-OR Y21 X-OR Z22 =1.0 X-OR 1.0 X-OR 0.0 = 1100\u001b[0m\n\n-----------------------------iteration 4-----------------------------\nm = maj( x8 ,y10 , z10) = (0.0 ,0.0 ,1.0 ) = 0.0\n\n \n------------------Printing X register-------------------\nX0-0\tX1-0\tX2-0\tX3-0\tX4-1\tX5-1\tX6-0\tX7-1\tX8-1\tX9-0\tX10-1\tX11-1\tX12-1\tX13-0\tX14-0\tX15-0\tX16-1\tX17-1\tX18-0\t\nNone\n \n------------------Printing Y register-------------------\nY0-0\tY1-0\tY2-0\tY3-1\tY4-1\tY5-0\tY6-0\tY7-1\tY8-0\tY9-0\tY10-0\tY11-0\tY12-0\tY13-0\tY14-1\tY15-1\tY16-1\tY17-0\tY18-1\tY19-0\tY20-0\tY21-1\t\nNone\n \n------------------Printing Z register-------------------\nZ0-1\tZ1-1\tZ2-1\tZ3-0\tZ4-0\tZ5-0\tZ6-1\tZ7-0\tZ8-1\tZ9-0\tZ10-1\tZ11-1\tZ12-0\tZ13-0\tZ14-1\tZ15-0\tZ16-1\tZ17-0\tZ18-0\tZ19-1\tZ20-1\tZ21-0\tZ22-0\t\nNone\n\u001b[1mKey Stream Bits- X18 X-OR Y21 X-OR Z22 =0.0 X-OR 1.0 X-OR 0.0 = 11001\u001b[0m\n\n"
          ]
        }
      ]
    },
    {
      "cell_type": "markdown",
      "metadata": {
        "id": "tmLPVxHR1REm"
      },
      "source": []
    },
    {
      "cell_type": "code",
      "metadata": {
        "id": "mqBjTH8-IAod"
      },
      "source": [
        "print(\"munaf\")"
      ],
      "execution_count": 8,
      "outputs": [
        {
          "output_type": "stream",
          "name": "stdout",
          "text": [
            "munaf\n"
          ]
        }
      ]
    },
    {
      "cell_type": "code",
      "execution_count": null,
      "metadata": {},
      "outputs": [],
      "source": []
    }
  ]
}